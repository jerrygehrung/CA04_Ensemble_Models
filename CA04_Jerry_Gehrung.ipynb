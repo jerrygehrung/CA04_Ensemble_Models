{
  "nbformat": 4,
  "nbformat_minor": 0,
  "metadata": {
    "colab": {
      "name": "CA04_Jerry_Gehrung.ipynb",
      "provenance": []
    },
    "kernelspec": {
      "name": "python3",
      "display_name": "Python 3"
    }
  },
  "cells": [
    {
      "cell_type": "markdown",
      "metadata": {
        "id": "IMKhDRwE8bH-"
      },
      "source": [
        "# CA04 – Ensemble Models"
      ]
    },
    {
      "cell_type": "markdown",
      "metadata": {
        "id": "OL3lmVts2AWj"
      },
      "source": [
        "## Data Source and Contents"
      ]
    },
    {
      "cell_type": "code",
      "metadata": {
        "id": "c_WeHbEBpH2h"
      },
      "source": [
        "# import packages\n",
        "import pandas as pd\n",
        "import matplotlib.pyplot as plt\n",
        "import numpy as np"
      ],
      "execution_count": 76,
      "outputs": []
    },
    {
      "cell_type": "code",
      "metadata": {
        "id": "vevBKoptrpHF"
      },
      "source": [
        "# read dataset\n",
        "df = pd.read_csv('census_data.csv')"
      ],
      "execution_count": 77,
      "outputs": []
    },
    {
      "cell_type": "code",
      "metadata": {
        "colab": {
          "base_uri": "https://localhost:8080/"
        },
        "id": "2ayO0G0zr-96",
        "outputId": "45bd4827-a7af-48f7-cbc7-877771202024"
      },
      "source": [
        "# inspect dataset\n",
        "df.head()\n",
        "df.describe()\n",
        "df.info()"
      ],
      "execution_count": 78,
      "outputs": [
        {
          "output_type": "stream",
          "text": [
            "<class 'pandas.core.frame.DataFrame'>\n",
            "RangeIndex: 48842 entries, 0 to 48841\n",
            "Data columns (total 11 columns):\n",
            " #   Column              Non-Null Count  Dtype \n",
            "---  ------              --------------  ----- \n",
            " 0   hours_per_week_bin  48842 non-null  object\n",
            " 1   occupation_bin      48842 non-null  object\n",
            " 2   msr_bin             48842 non-null  object\n",
            " 3   capital_gl_bin      48842 non-null  object\n",
            " 4   race_sex_bin        48842 non-null  object\n",
            " 5   education_num_bin   48842 non-null  object\n",
            " 6   education_bin       48842 non-null  object\n",
            " 7   workclass_bin       48842 non-null  object\n",
            " 8   age_bin             48842 non-null  object\n",
            " 9   flag                48842 non-null  object\n",
            " 10  y                   48842 non-null  int64 \n",
            "dtypes: int64(1), object(10)\n",
            "memory usage: 4.1+ MB\n"
          ],
          "name": "stdout"
        }
      ]
    },
    {
      "cell_type": "code",
      "metadata": {
        "id": "xPXgcq0Rlr66"
      },
      "source": [
        "from sklearn import preprocessing\n",
        "le = preprocessing.LabelEncoder()"
      ],
      "execution_count": 79,
      "outputs": []
    },
    {
      "cell_type": "code",
      "metadata": {
        "colab": {
          "base_uri": "https://localhost:8080/",
          "height": 439
        },
        "id": "zwzISQ66v3Vb",
        "outputId": "4096c2d1-b576-42ae-abcd-5322f8fef260"
      },
      "source": [
        "# encode values\n",
        "df.hours_per_week_bin = le.fit_transform(df.hours_per_week_bin) \n",
        "df.occupation_bin = le.fit_transform(df.occupation_bin)\n",
        "df.msr_bin = le.fit_transform(df.msr_bin) \n",
        "df.capital_gl_bin = le.fit_transform(df.capital_gl_bin) \n",
        "df.race_sex_bin = le.fit_transform(df.race_sex_bin) \n",
        "df.education_num_bin = le.fit_transform(df.education_num_bin) \n",
        "df.education_bin = le.fit_transform(df.education_bin)  \n",
        "df.workclass_bin = le.fit_transform(df.workclass_bin) \n",
        "df.age_bin = le.fit_transform(df.age_bin) \n",
        "df"
      ],
      "execution_count": 80,
      "outputs": [
        {
          "output_type": "execute_result",
          "data": {
            "text/html": [
              "<div>\n",
              "<style scoped>\n",
              "    .dataframe tbody tr th:only-of-type {\n",
              "        vertical-align: middle;\n",
              "    }\n",
              "\n",
              "    .dataframe tbody tr th {\n",
              "        vertical-align: top;\n",
              "    }\n",
              "\n",
              "    .dataframe thead th {\n",
              "        text-align: right;\n",
              "    }\n",
              "</style>\n",
              "<table border=\"1\" class=\"dataframe\">\n",
              "  <thead>\n",
              "    <tr style=\"text-align: right;\">\n",
              "      <th></th>\n",
              "      <th>hours_per_week_bin</th>\n",
              "      <th>occupation_bin</th>\n",
              "      <th>msr_bin</th>\n",
              "      <th>capital_gl_bin</th>\n",
              "      <th>race_sex_bin</th>\n",
              "      <th>education_num_bin</th>\n",
              "      <th>education_bin</th>\n",
              "      <th>workclass_bin</th>\n",
              "      <th>age_bin</th>\n",
              "      <th>flag</th>\n",
              "      <th>y</th>\n",
              "    </tr>\n",
              "  </thead>\n",
              "  <tbody>\n",
              "    <tr>\n",
              "      <th>0</th>\n",
              "      <td>1</td>\n",
              "      <td>1</td>\n",
              "      <td>1</td>\n",
              "      <td>2</td>\n",
              "      <td>2</td>\n",
              "      <td>2</td>\n",
              "      <td>2</td>\n",
              "      <td>1</td>\n",
              "      <td>3</td>\n",
              "      <td>train</td>\n",
              "      <td>0</td>\n",
              "    </tr>\n",
              "    <tr>\n",
              "      <th>1</th>\n",
              "      <td>0</td>\n",
              "      <td>4</td>\n",
              "      <td>2</td>\n",
              "      <td>0</td>\n",
              "      <td>2</td>\n",
              "      <td>2</td>\n",
              "      <td>2</td>\n",
              "      <td>1</td>\n",
              "      <td>4</td>\n",
              "      <td>train</td>\n",
              "      <td>0</td>\n",
              "    </tr>\n",
              "    <tr>\n",
              "      <th>2</th>\n",
              "      <td>1</td>\n",
              "      <td>0</td>\n",
              "      <td>1</td>\n",
              "      <td>0</td>\n",
              "      <td>2</td>\n",
              "      <td>1</td>\n",
              "      <td>1</td>\n",
              "      <td>1</td>\n",
              "      <td>3</td>\n",
              "      <td>train</td>\n",
              "      <td>0</td>\n",
              "    </tr>\n",
              "    <tr>\n",
              "      <th>3</th>\n",
              "      <td>1</td>\n",
              "      <td>0</td>\n",
              "      <td>2</td>\n",
              "      <td>0</td>\n",
              "      <td>1</td>\n",
              "      <td>0</td>\n",
              "      <td>0</td>\n",
              "      <td>1</td>\n",
              "      <td>4</td>\n",
              "      <td>train</td>\n",
              "      <td>0</td>\n",
              "    </tr>\n",
              "    <tr>\n",
              "      <th>4</th>\n",
              "      <td>1</td>\n",
              "      <td>4</td>\n",
              "      <td>2</td>\n",
              "      <td>0</td>\n",
              "      <td>0</td>\n",
              "      <td>2</td>\n",
              "      <td>2</td>\n",
              "      <td>1</td>\n",
              "      <td>1</td>\n",
              "      <td>train</td>\n",
              "      <td>0</td>\n",
              "    </tr>\n",
              "    <tr>\n",
              "      <th>...</th>\n",
              "      <td>...</td>\n",
              "      <td>...</td>\n",
              "      <td>...</td>\n",
              "      <td>...</td>\n",
              "      <td>...</td>\n",
              "      <td>...</td>\n",
              "      <td>...</td>\n",
              "      <td>...</td>\n",
              "      <td>...</td>\n",
              "      <td>...</td>\n",
              "      <td>...</td>\n",
              "    </tr>\n",
              "    <tr>\n",
              "      <th>48837</th>\n",
              "      <td>1</td>\n",
              "      <td>4</td>\n",
              "      <td>1</td>\n",
              "      <td>0</td>\n",
              "      <td>1</td>\n",
              "      <td>2</td>\n",
              "      <td>2</td>\n",
              "      <td>1</td>\n",
              "      <td>3</td>\n",
              "      <td>test</td>\n",
              "      <td>0</td>\n",
              "    </tr>\n",
              "    <tr>\n",
              "      <th>48838</th>\n",
              "      <td>1</td>\n",
              "      <td>1</td>\n",
              "      <td>0</td>\n",
              "      <td>0</td>\n",
              "      <td>1</td>\n",
              "      <td>1</td>\n",
              "      <td>1</td>\n",
              "      <td>0</td>\n",
              "      <td>2</td>\n",
              "      <td>test</td>\n",
              "      <td>0</td>\n",
              "    </tr>\n",
              "    <tr>\n",
              "      <th>48839</th>\n",
              "      <td>3</td>\n",
              "      <td>4</td>\n",
              "      <td>2</td>\n",
              "      <td>0</td>\n",
              "      <td>2</td>\n",
              "      <td>2</td>\n",
              "      <td>2</td>\n",
              "      <td>1</td>\n",
              "      <td>3</td>\n",
              "      <td>test</td>\n",
              "      <td>0</td>\n",
              "    </tr>\n",
              "    <tr>\n",
              "      <th>48840</th>\n",
              "      <td>1</td>\n",
              "      <td>1</td>\n",
              "      <td>0</td>\n",
              "      <td>2</td>\n",
              "      <td>2</td>\n",
              "      <td>2</td>\n",
              "      <td>2</td>\n",
              "      <td>1</td>\n",
              "      <td>4</td>\n",
              "      <td>test</td>\n",
              "      <td>0</td>\n",
              "    </tr>\n",
              "    <tr>\n",
              "      <th>48841</th>\n",
              "      <td>4</td>\n",
              "      <td>4</td>\n",
              "      <td>2</td>\n",
              "      <td>0</td>\n",
              "      <td>2</td>\n",
              "      <td>2</td>\n",
              "      <td>2</td>\n",
              "      <td>1</td>\n",
              "      <td>2</td>\n",
              "      <td>test</td>\n",
              "      <td>1</td>\n",
              "    </tr>\n",
              "  </tbody>\n",
              "</table>\n",
              "<p>48842 rows × 11 columns</p>\n",
              "</div>"
            ],
            "text/plain": [
              "       hours_per_week_bin  occupation_bin  msr_bin  ...  age_bin   flag  y\n",
              "0                       1               1        1  ...        3  train  0\n",
              "1                       0               4        2  ...        4  train  0\n",
              "2                       1               0        1  ...        3  train  0\n",
              "3                       1               0        2  ...        4  train  0\n",
              "4                       1               4        2  ...        1  train  0\n",
              "...                   ...             ...      ...  ...      ...    ... ..\n",
              "48837                   1               4        1  ...        3   test  0\n",
              "48838                   1               1        0  ...        2   test  0\n",
              "48839                   3               4        2  ...        3   test  0\n",
              "48840                   1               1        0  ...        4   test  0\n",
              "48841                   4               4        2  ...        2   test  1\n",
              "\n",
              "[48842 rows x 11 columns]"
            ]
          },
          "metadata": {
            "tags": []
          },
          "execution_count": 80
        }
      ]
    },
    {
      "cell_type": "code",
      "metadata": {
        "id": "W0GMdAHIyp-E"
      },
      "source": [
        "# split dataset intro training and testing data\n",
        "x_train = df[df.flag == 'train'].drop(['flag', 'y'], axis = 1)\n",
        "x_test = df[df.flag == 'test'].drop(['flag', 'y'], axis = 1)\n",
        "y_train = df[df.flag == 'train']['y']\n",
        "y_test = df[df.flag == 'test']['y']"
      ],
      "execution_count": 81,
      "outputs": []
    },
    {
      "cell_type": "markdown",
      "metadata": {
        "id": "HgAScEDg80Wt"
      },
      "source": [
        "## Finding Optimal Value of a Key Hyper-Parameter"
      ]
    },
    {
      "cell_type": "code",
      "metadata": {
        "id": "7f7BlGkHL7qG"
      },
      "source": [
        "from sklearn.tree import DecisionTreeClassifier"
      ],
      "execution_count": 82,
      "outputs": []
    },
    {
      "cell_type": "code",
      "metadata": {
        "colab": {
          "base_uri": "https://localhost:8080/",
          "height": 282
        },
        "id": "lRhPFUBw9LJ_",
        "outputId": "cbbac698-d112-400d-f7c2-b50aa04decd2"
      },
      "source": [
        "results = []\n",
        "max_depth_options = [2,4,6,8,10,12,14,16,18,20]\n",
        "for trees in max_depth_options:\n",
        " model = DecisionTreeClassifier(max_depth = trees, random_state = 101)\n",
        " model.fit(x_train, y_train)\n",
        " y_pred = model.predict(x_test)\n",
        " accuracy = np.mean(y_test == y_pred)\n",
        " results.append(accuracy)\n",
        "\n",
        "plt.figure(figsize = (8,4))\n",
        "pd.Series(results, max_depth_options).plot(color = \"darkred\", marker = \"o\")"
      ],
      "execution_count": 83,
      "outputs": [
        {
          "output_type": "execute_result",
          "data": {
            "text/plain": [
              "<matplotlib.axes._subplots.AxesSubplot at 0x7f10d21e3710>"
            ]
          },
          "metadata": {
            "tags": []
          },
          "execution_count": 83
        },
        {
          "output_type": "display_data",
          "data": {
            "image/png": "[encoded data removed]",
            "text/plain": [
              "<Figure size 576x288 with 1 Axes>"
            ]
          },
          "metadata": {
            "tags": [],
            "needs_background": "light"
          }
        }
      ]
    },
    {
      "cell_type": "markdown",
      "metadata": {
        "id": "JNaVQYweDRNA"
      },
      "source": [
        "## Building a Random Forest Model"
      ]
    },
    {
      "cell_type": "code",
      "metadata": {
        "id": "yP47erluL-LR"
      },
      "source": [
        "from sklearn.ensemble import RandomForestClassifier"
      ],
      "execution_count": 84,
      "outputs": []
    },
    {
      "cell_type": "code",
      "metadata": {
        "colab": {
          "base_uri": "https://localhost:8080/",
          "height": 282
        },
        "id": "BpTQ0GyxDT-m",
        "outputId": "e1d001d4-d0f1-4870-bbce-1699782a784e"
      },
      "source": [
        "results_rf = []\n",
        "n_estimator_values = [50,100,150,200,250,300,350,400,450,500]\n",
        "\n",
        "for trees in n_estimator_values:\n",
        "  model_rf = RandomForestClassifier(n_estimators = trees, random_state = 101)\n",
        "  model_rf.fit(x_train, y_train)\n",
        "  y_pred_rf = model_rf.predict(x_test)\n",
        "  accuracy_rf = np.mean(y_test == y_pred_rf)\n",
        "  results_rf.append(accuracy_rf)\n",
        "\n",
        "plt.figure(figsize = (8,4))\n",
        "pd.Series(results_rf, n_estimator_values).plot(color = \"orange\", marker = \"o\")"
      ],
      "execution_count": 100,
      "outputs": [
        {
          "output_type": "execute_result",
          "data": {
            "text/plain": [
              "<matplotlib.axes._subplots.AxesSubplot at 0x7f10d1e07ad0>"
            ]
          },
          "metadata": {
            "tags": []
          },
          "execution_count": 100
        },
        {
          "output_type": "display_data",
          "data": {
            "image/png": "[encoded data removed]",
            "text/plain": [
              "<Figure size 576x288 with 1 Axes>"
            ]
          },
          "metadata": {
            "tags": [],
            "needs_background": "light"
          }
        }
      ]
    },
    {
      "cell_type": "markdown",
      "metadata": {
        "id": "0oAbrmTGGQ5D"
      },
      "source": [
        "## AdaBoost Model"
      ]
    },
    {
      "cell_type": "code",
      "metadata": {
        "id": "T0fQlLIxMBQY"
      },
      "source": [
        "from sklearn.ensemble import AdaBoostClassifier"
      ],
      "execution_count": 86,
      "outputs": []
    },
    {
      "cell_type": "code",
      "metadata": {
        "colab": {
          "base_uri": "https://localhost:8080/",
          "height": 282
        },
        "id": "MB7juczvHjYi",
        "outputId": "357d0ae9-fd20-440f-9e26-a300f37b71c2"
      },
      "source": [
        "results_ab = []\n",
        "n_estimator_values = [50,100,150,200,250,300,350,400,450,500]\n",
        "\n",
        "for trees in n_estimator_values:\n",
        "  model_ab = AdaBoostClassifier(n_estimators = trees, random_state = 101)\n",
        "  model_ab.fit(x_train, y_train)\n",
        "  y_pred_ab = model_ab.predict(x_test)\n",
        "  accuracy_ab = np.mean(y_test == y_pred_ab)\n",
        "  results_ab.append(accuracy_ab)\n",
        "\n",
        "plt.figure(figsize = (8,4))\n",
        "pd.Series(results_ab, n_estimator_values).plot(color = \"green\", marker = \"o\")"
      ],
      "execution_count": 101,
      "outputs": [
        {
          "output_type": "execute_result",
          "data": {
            "text/plain": [
              "<matplotlib.axes._subplots.AxesSubplot at 0x7f10d20a1bd0>"
            ]
          },
          "metadata": {
            "tags": []
          },
          "execution_count": 101
        },
        {
          "output_type": "display_data",
          "data": {
            "image/png": "[encoded data removed]",
            "text/plain": [
              "<Figure size 576x288 with 1 Axes>"
            ]
          },
          "metadata": {
            "tags": [],
            "needs_background": "light"
          }
        }
      ]
    },
    {
      "cell_type": "markdown",
      "metadata": {
        "id": "BKUmIwcfJ_qV"
      },
      "source": [
        "## Gradient Boost Model"
      ]
    },
    {
      "cell_type": "code",
      "metadata": {
        "id": "33TfrPcOMD8b"
      },
      "source": [
        "from sklearn.ensemble import GradientBoostingClassifier"
      ],
      "execution_count": 88,
      "outputs": []
    },
    {
      "cell_type": "code",
      "metadata": {
        "colab": {
          "base_uri": "https://localhost:8080/",
          "height": 282
        },
        "id": "JwQJ7IlCKEUv",
        "outputId": "d0ee2be3-14eb-4b5f-b893-3a6314421881"
      },
      "source": [
        "results_gb = []\n",
        "n_estimator_values = [50,100,150,200,250,300,350,400,450,500]\n",
        "\n",
        "for trees in n_estimator_values:\n",
        "  model_gb = GradientBoostingClassifier(n_estimators = trees, random_state = 101)\n",
        "  model_gb.fit(x_train, y_train)\n",
        "  y_pred_gb = model_gb.predict(x_test)\n",
        "  accuracy_gb = np.mean(y_test == y_pred_gb)\n",
        "  results_gb.append(accuracy_gb)\n",
        "\n",
        "plt.figure(figsize = (8,4))\n",
        "pd.Series(results_gb, n_estimator_values).plot(color = \"blue\", marker = \"o\")"
      ],
      "execution_count": 102,
      "outputs": [
        {
          "output_type": "execute_result",
          "data": {
            "text/plain": [
              "<matplotlib.axes._subplots.AxesSubplot at 0x7f10d1ce7d10>"
            ]
          },
          "metadata": {
            "tags": []
          },
          "execution_count": 102
        },
        {
          "output_type": "display_data",
          "data": {
            "image/png": "[encoded data removed]",
            "text/plain": [
              "<Figure size 576x288 with 1 Axes>"
            ]
          },
          "metadata": {
            "tags": [],
            "needs_background": "light"
          }
        }
      ]
    },
    {
      "cell_type": "markdown",
      "metadata": {
        "id": "g26WMB-NLvvO"
      },
      "source": [
        "## XGB Model"
      ]
    },
    {
      "cell_type": "code",
      "metadata": {
        "id": "EvnuBcZpMG1R"
      },
      "source": [
        "from xgboost import XGBClassifier"
      ],
      "execution_count": 90,
      "outputs": []
    },
    {
      "cell_type": "code",
      "metadata": {
        "colab": {
          "base_uri": "https://localhost:8080/",
          "height": 282
        },
        "id": "LUrnanV6Meo-",
        "outputId": "27c02c56-d2a4-4cb5-c4b1-682d816fa1bb"
      },
      "source": [
        "results_xgb = []\n",
        "n_estimator_values = [50,100,150,200,250,300,350,400,450,500]\n",
        "\n",
        "for trees in n_estimator_values:\n",
        "  model_xgb = XGBClassifier(n_estimators = trees, random_state = 101)\n",
        "  model_xgb.fit(x_train, y_train)\n",
        "  y_pred_xgb = model_xgb.predict(x_test)\n",
        "  accuracy_xgb = np.mean(y_test == y_pred_xgb)\n",
        "  results_xgb.append(accuracy_xgb)\n",
        "\n",
        "plt.figure(figsize = (8,4))\n",
        "pd.Series(results_xgb, n_estimator_values).plot(color = \"purple\", marker = \"o\")"
      ],
      "execution_count": 103,
      "outputs": [
        {
          "output_type": "execute_result",
          "data": {
            "text/plain": [
              "<matplotlib.axes._subplots.AxesSubplot at 0x7f10d1cca290>"
            ]
          },
          "metadata": {
            "tags": []
          },
          "execution_count": 103
        },
        {
          "output_type": "display_data",
          "data": {
            "image/png": "[encoded data removed]",
            "text/plain": [
              "<Figure size 576x288 with 1 Axes>"
            ]
          },
          "metadata": {
            "tags": [],
            "needs_background": "light"
          }
        }
      ]
    },
    {
      "cell_type": "markdown",
      "metadata": {
        "id": "rzuZ2kx5No1p"
      },
      "source": [
        "## Compare Performance"
      ]
    },
    {
      "cell_type": "code",
      "metadata": {
        "id": "YXr01T99NrCA"
      },
      "source": [
        "# create table\n",
        "comparison = pd.DataFrame(index = ['Accuracy', 'AUC'], columns = ['Random Forest', 'AdaBoost', 'Gradient Boost', 'XGB'])"
      ],
      "execution_count": 92,
      "outputs": []
    },
    {
      "cell_type": "code",
      "metadata": {
        "id": "xY7CnhAZQRDh"
      },
      "source": [
        "from sklearn import metrics\n",
        "from sklearn.metrics import auc\n",
        "from sklearn.metrics import roc_auc_score"
      ],
      "execution_count": 93,
      "outputs": []
    },
    {
      "cell_type": "code",
      "metadata": {
        "colab": {
          "base_uri": "https://localhost:8080/"
        },
        "id": "LoSJoaVEOXjb",
        "outputId": "c4d949ba-5786-4a88-f622-1030542f2076"
      },
      "source": [
        "# create list to append accuracy scores\n",
        "accuracy_performance = []\n",
        "accuracy_performance.append(accuracy_rf)\n",
        "accuracy_performance.append(accuracy_ab)\n",
        "accuracy_performance.append(accuracy_gb)\n",
        "accuracy_performance.append(accuracy_xgb)\n",
        "accuracy_performance\n",
        "\n",
        "# create list to append AUC scores\n",
        "auc_performance = []\n",
        "auc_performance.append(roc_auc_score(y_test, y_pred_rf))\n",
        "auc_performance.append(roc_auc_score(y_test, y_pred_ab))\n",
        "auc_performance.append(roc_auc_score(y_test, y_pred_gb))\n",
        "auc_performance.append(roc_auc_score(y_test, y_pred_xgb))\n",
        "auc_performance"
      ],
      "execution_count": 94,
      "outputs": [
        {
          "output_type": "execute_result",
          "data": {
            "text/plain": [
              "[0.7467807325079494,\n",
              " 0.7460076328264228,\n",
              " 0.7609339548491469,\n",
              " 0.7591849222822954]"
            ]
          },
          "metadata": {
            "tags": []
          },
          "execution_count": 94
        }
      ]
    },
    {
      "cell_type": "code",
      "metadata": {
        "colab": {
          "base_uri": "https://localhost:8080/",
          "height": 111
        },
        "id": "HtX7CsI1Pk4h",
        "outputId": "7a1893d1-cb72-487e-94d0-7ff3e552bb71"
      },
      "source": [
        "comparison.loc['Accuracy'] = accuracy_performance\n",
        "comparison.loc['AUC'] = auc_performance\n",
        "comparison"
      ],
      "execution_count": 95,
      "outputs": [
        {
          "output_type": "execute_result",
          "data": {
            "text/html": [
              "<div>\n",
              "<style scoped>\n",
              "    .dataframe tbody tr th:only-of-type {\n",
              "        vertical-align: middle;\n",
              "    }\n",
              "\n",
              "    .dataframe tbody tr th {\n",
              "        vertical-align: top;\n",
              "    }\n",
              "\n",
              "    .dataframe thead th {\n",
              "        text-align: right;\n",
              "    }\n",
              "</style>\n",
              "<table border=\"1\" class=\"dataframe\">\n",
              "  <thead>\n",
              "    <tr style=\"text-align: right;\">\n",
              "      <th></th>\n",
              "      <th>Random Forest</th>\n",
              "      <th>AdaBoost</th>\n",
              "      <th>Gradient Boost</th>\n",
              "      <th>XGB</th>\n",
              "    </tr>\n",
              "  </thead>\n",
              "  <tbody>\n",
              "    <tr>\n",
              "      <th>Accuracy</th>\n",
              "      <td>0.837602</td>\n",
              "      <td>0.844788</td>\n",
              "      <td>0.846877</td>\n",
              "      <td>0.846263</td>\n",
              "    </tr>\n",
              "    <tr>\n",
              "      <th>AUC</th>\n",
              "      <td>0.746781</td>\n",
              "      <td>0.746008</td>\n",
              "      <td>0.760934</td>\n",
              "      <td>0.759185</td>\n",
              "    </tr>\n",
              "  </tbody>\n",
              "</table>\n",
              "</div>"
            ],
            "text/plain": [
              "         Random Forest  AdaBoost Gradient Boost       XGB\n",
              "Accuracy      0.837602  0.844788       0.846877  0.846263\n",
              "AUC           0.746781  0.746008       0.760934  0.759185"
            ]
          },
          "metadata": {
            "tags": []
          },
          "execution_count": 95
        }
      ]
    }
  ]
}